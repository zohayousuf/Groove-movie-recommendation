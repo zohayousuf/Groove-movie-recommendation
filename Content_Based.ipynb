{
  "nbformat": 4,
  "nbformat_minor": 0,
  "metadata": {
    "colab": {
      "name": "Content_Based.ipynb",
      "provenance": [],
      "collapsed_sections": [],
      "include_colab_link": true
    },
    "kernelspec": {
      "name": "python3",
      "display_name": "Python 3"
    }
  },
  "cells": [
    {
      "cell_type": "markdown",
      "metadata": {
        "id": "view-in-github",
        "colab_type": "text"
      },
      "source": [
        "<a href=\"https://colab.research.google.com/github/zohayousuf/Groove-movie-recommendation/blob/main/Content_Based.ipynb\" target=\"_parent\"><img src=\"https://colab.research.google.com/assets/colab-badge.svg\" alt=\"Open In Colab\"/></a>"
      ]
    },
    {
      "cell_type": "code",
      "metadata": {
        "id": "7a-3IIbimSN6",
        "colab": {
          "base_uri": "https://localhost:8080/",
          "height": 122
        },
        "outputId": "9aa08b63-4d8a-4cc3-d680-b95aafcbbdfc"
      },
      "source": [
        "import pandas as pd\n",
        "import numpy as np\n",
        "import math\n",
        "from sklearn.feature_extraction.text import TfidfVectorizer\n",
        "from sklearn.metrics.pairwise import linear_kernel\n",
        "\n",
        "from google.colab import drive\n",
        "drive.mount('/content/drive')"
      ],
      "execution_count": null,
      "outputs": [
        {
          "output_type": "stream",
          "text": [
            "Go to this URL in a browser: https://accounts.google.com/o/oauth2/auth?client_id=947318989803-6bn6qk8qdgf4n4g3pfee6491hc0brc4i.apps.googleusercontent.com&redirect_uri=urn%3aietf%3awg%3aoauth%3a2.0%3aoob&response_type=code&scope=email%20https%3a%2f%2fwww.googleapis.com%2fauth%2fdocs.test%20https%3a%2f%2fwww.googleapis.com%2fauth%2fdrive%20https%3a%2f%2fwww.googleapis.com%2fauth%2fdrive.photos.readonly%20https%3a%2f%2fwww.googleapis.com%2fauth%2fpeopleapi.readonly\n",
            "\n",
            "Enter your authorization code:\n",
            "··········\n",
            "Mounted at /content/drive\n"
          ],
          "name": "stdout"
        }
      ]
    },
    {
      "cell_type": "code",
      "metadata": {
        "id": "k939tkmhmjAF"
      },
      "source": [
        "movies = pd.read_csv('/content/drive/My Drive/movies.csv')\n",
        "ratings = pd.read_csv('/content/drive/My Drive/ratings.csv')"
      ],
      "execution_count": null,
      "outputs": []
    },
    {
      "cell_type": "code",
      "metadata": {
        "id": "NNjIHXgLU_vy"
      },
      "source": [
        "movies['genres'] = movies['genres'].replace(to_replace=0, value=\"\")\n",
        "\n",
        "movies_genres = TfidfVectorizer().fit_transform(movies['genres'])\n",
        "similarity_movies = linear_kernel(movies_genres)\n"
      ],
      "execution_count": null,
      "outputs": []
    },
    {
      "cell_type": "code",
      "metadata": {
        "id": "Kp1jtvHv-aw1"
      },
      "source": [
        "def get_recommendations_based_on_genres(movie_title, similarity_movies):\n",
        "    movie_indices = []   \n",
        "    movie_index = movies.loc[movies['title'].isin([movie_title])]\n",
        "    movie_index = movie_index.index\n",
        "    x = similarity_movies[movie_index][0]\n",
        "    similar_movies = list(enumerate(similarity_movies[movie_index][0]))\n",
        "    similar_movies = sorted(similar_movies, key=lambda x: x[1], reverse=True)\n",
        "    similar_movies = similar_movies[1:10]\n",
        "    for i in similar_movies:\n",
        "      x = i[0]\n",
        "      movie_indices.append(x)\n",
        "    \n",
        "    return movies['title'].iloc[movie_indices]\n",
        "\n"
      ],
      "execution_count": null,
      "outputs": []
    },
    {
      "cell_type": "code",
      "metadata": {
        "id": "eoKw4GvcdioH",
        "colab": {
          "base_uri": "https://localhost:8080/",
          "height": 187
        },
        "outputId": "bdd1c7c5-158b-413a-ba36-1017523a2d24"
      },
      "source": [
        "titles = get_recommendations_based_on_genres(\"Rocky (1976)\",similarity_movies)\n",
        "print(titles)"
      ],
      "execution_count": null,
      "outputs": [
        {
          "output_type": "stream",
          "text": [
            "25                      Othello (1995)\n",
            "30              Dangerous Minds (1995)\n",
            "36     Cry, the Beloved Country (1995)\n",
            "39                  Restoration (1995)\n",
            "50                      Georgia (1995)\n",
            "51        Home for the Holidays (1995)\n",
            "55           Mr. Holland's Opus (1995)\n",
            "105    Boys of St. Vincent, The (1992)\n",
            "120     Basketball Diaries, The (1995)\n",
            "Name: title, dtype: object\n"
          ],
          "name": "stdout"
        }
      ]
    },
    {
      "cell_type": "code",
      "metadata": {
        "id": "h0L9lQw7RWDW",
        "colab": {
          "base_uri": "https://localhost:8080/",
          "height": 170
        },
        "outputId": "0e78205a-f420-4dbc-88ce-f20f0020555d"
      },
      "source": [
        "def get_recommendation_content_model(userId):\n",
        "\n",
        "    recommended_movies = []\n",
        "    movies_list = []\n",
        "    rating = ratings[ratings[\"userId\"]== userId]\n",
        "    for key, row in rating.iterrows():\n",
        "        movies_list.append((movies[\"title\"][row[\"movieId\"]==movies[\"movieId\"]]).values) \n",
        "    for index, movie in enumerate(movies_list):\n",
        "        for key, movie_recommended in get_recommendations_based_on_genres(movie[0],similarity_movies).iteritems():\n",
        "            recommended_movies.append(movie_recommended) \n",
        "    for movie_title in recommended_movies:\n",
        "        if movie_title in movies_list:\n",
        "            recommended_movies.remove(movie_title)\n",
        "    \n",
        "    return recommended_movies[1:10]\n",
        "userId=500\n",
        "get_recommendation_content_model(userId)"
      ],
      "execution_count": null,
      "outputs": [
        {
          "output_type": "execute_result",
          "data": {
            "text/plain": [
              "[\"Emperor's New Groove, The (2000)\",\n",
              " 'Monsters, Inc. (2001)',\n",
              " 'Wild, The (2006)',\n",
              " 'Shrek the Third (2007)',\n",
              " 'Tale of Despereaux, The (2008)',\n",
              " 'Asterix and the Vikings (Astérix et les Vikings) (2006)',\n",
              " 'Mighty Aphrodite (1995)',\n",
              " 'Postman, The (Postino, Il) (1994)',\n",
              " 'Beautiful Girls (1996)']"
            ]
          },
          "metadata": {
            "tags": []
          },
          "execution_count": 10
        }
      ]
    }
  ]
}